{
 "cells": [
  {
   "cell_type": "code",
   "execution_count": 1,
   "metadata": {},
   "outputs": [
    {
     "name": "stderr",
     "output_type": "stream",
     "text": [
      "WARNING: requiring \"wavefunctions\" in module \"Main\" did not define a corresponding module.\n"
     ]
    }
   ],
   "source": [
    "include(\"INCLUDEME.jl\")\n",
    "\n",
    "using Yao, Circuit, UnicodePlots, GradOptim, Utils, ArgParse, wavefunctions\n",
    "import Kernels\n",
    "using Compat.Test"
   ]
  },
  {
   "cell_type": "code",
   "execution_count": 2,
   "metadata": {},
   "outputs": [],
   "source": [
    "iter = 200\n",
    "N = 4\n",
    "monitor = 10\n",
    "depth = 6\n",
    "\n",
    "target0 = (register(bit\"1\"^N) + register(bit\"0\"^N))|>normalize!\n",
    "#target0 = register(ghz(N))  # why this can not work?\n",
    "qcbm = QCBM{N, 6}(get_nn_pairs(N)) |> initialize!\n",
    "optim = Adam(lr=0.1)\n",
    "kernel = Kernels.RBFKernel(nqubits(qcbm), [0.25], false)\n",
    "rot = roll(N, rotbasis())\n",
    "circuit = chain(qcbm, rot);"
   ]
  },
  {
   "cell_type": "code",
   "execution_count": 12,
   "metadata": {},
   "outputs": [
    {
     "data": {
      "text/plain": [
       "\u001b[1m\u001b[32mTest Passed\n",
       "\u001b[39m\u001b[22m"
      ]
     },
     "execution_count": 12,
     "metadata": {},
     "output_type": "execute_result"
    }
   ],
   "source": [
    "# check target wavefunction.\n",
    "@test statevec(target0) == ghz(N)"
   ]
  },
  {
   "cell_type": "code",
   "execution_count": 13,
   "metadata": {},
   "outputs": [
    {
     "name": "stdout",
     "output_type": "stream",
     "text": [
      "\u001b[1m\u001b[91mError During Test\n",
      "\u001b[39m\u001b[22m  Test threw an exception of type MethodError\n",
      "  Expression: parameters(rot) == parameters(circuit[end]) == ones(2N)\n",
      "  \u001b[91mMethodError: no method matching parameters(::Yao.Blocks.Roller{4,4,Complex{Float64},NTuple{4,Circuit.RotBasis{Float64}}})\u001b[0m\n",
      "  Closest candidates are:\n",
      "    parameters(\u001b[91m::Circuit.QCBM{N,NL,CT,T} where T where CT\u001b[39m) where {N, NL} at /home/leo/jcode/QCBM/modules/Circuit.jl:71\u001b[39m\n",
      "  Stacktrace:\n",
      "   [1] \u001b[1minclude_string\u001b[22m\u001b[22m\u001b[1m(\u001b[22m\u001b[22m::String, ::String\u001b[1m)\u001b[22m\u001b[22m at \u001b[1m./loading.jl:515\u001b[22m\u001b[22m\n",
      "   [2] \u001b[1mexecute_request\u001b[22m\u001b[22m\u001b[1m(\u001b[22m\u001b[22m::ZMQ.Socket, ::IJulia.Msg\u001b[1m)\u001b[22m\u001b[22m at \u001b[1m/home/leo/.julia/v0.6/IJulia/src/execute_request.jl:158\u001b[22m\u001b[22m\n",
      "   [3] \u001b[1m(::Compat.#inner#17{Array{Any,1},IJulia.#execute_request,Tuple{ZMQ.Socket,IJulia.Msg}})\u001b[22m\u001b[22m\u001b[1m(\u001b[22m\u001b[22m\u001b[1m)\u001b[22m\u001b[22m at \u001b[1m/home/leo/.julia/v0.6/Compat/src/Compat.jl:385\u001b[22m\u001b[22m\n",
      "   [4] \u001b[1meventloop\u001b[22m\u001b[22m\u001b[1m(\u001b[22m\u001b[22m::ZMQ.Socket\u001b[1m)\u001b[22m\u001b[22m at \u001b[1m/home/leo/.julia/v0.6/IJulia/src/eventloop.jl:8\u001b[22m\u001b[22m\n",
      "   [5] \u001b[1m(::IJulia.##14#17)\u001b[22m\u001b[22m\u001b[1m(\u001b[22m\u001b[22m\u001b[1m)\u001b[22m\u001b[22m at \u001b[1m./task.jl:335\u001b[22m\u001b[22m\n"
     ]
    },
    {
     "ename": "LoadError",
     "evalue": "\u001b[91mThere was an error during testing\u001b[39m",
     "output_type": "error",
     "traceback": [
      "\u001b[91mThere was an error during testing\u001b[39m",
      "",
      "Stacktrace:",
      " [1] \u001b[1mrecord\u001b[22m\u001b[22m\u001b[1m(\u001b[22m\u001b[22m::Base.Test.FallbackTestSet, ::Base.Test.Error\u001b[1m)\u001b[22m\u001b[22m at \u001b[1m./test.jl:533\u001b[22m\u001b[22m",
      " [2] \u001b[1mdo_test\u001b[22m\u001b[22m\u001b[1m(\u001b[22m\u001b[22m::Base.Test.Threw, ::Expr\u001b[1m)\u001b[22m\u001b[22m at \u001b[1m./test.jl:352\u001b[22m\u001b[22m"
     ]
    }
   ],
   "source": [
    "# check correctly dispatch\n",
    "dispatch!(rot, ones(2 * N))\n",
    "@test parameters(rot) == parameters(circuit[end]) == ones(2 * N)"
   ]
  },
  {
   "cell_type": "code",
   "execution_count": null,
   "metadata": {},
   "outputs": [],
   "source": [
    "history = Float64[]\n",
    "fedility = Float64[]\n",
    "\n",
    "for i = 1:iter\n",
    "    dispatch!(rot, pi * rand(2 * N))\n",
    "    target = rot(copy(target0))\n",
    "\n",
    "    ptrain = abs2.(statevec(target))\n",
    "    grad = gradient(qcbm, kernel, ptrain)\n",
    "\n",
    "    if i % monitor == 0\n",
    "        curr_loss = loss(qcbm, kernel, ptrain)\n",
    "        curr_fedility = abs.(dot(statevec(qcbm()), statevec(target)))\n",
    "        push!(history, curr_loss)\n",
    "        push!(fedility, curr_fedility)\n",
    "        println(i, \" step, loss = \", curr_loss)\n",
    "        println(\"fedility: \", curr_fedility)\n",
    "    end\n",
    "    # Warn: we need a primitive block to enable\n",
    "    # BLAS here.\n",
    "    params = parameters(qcbm)\n",
    "    update!(params, grad, optim)\n",
    "    dispatch!(qcbm, params)\n",
    "end\n",
    "\n",
    "display(lineplot(history, title = \"loss\"))\n",
    "display(lineplot(fidelity, title = \"fidelity\"))"
   ]
  },
  {
   "cell_type": "code",
   "execution_count": null,
   "metadata": {},
   "outputs": [],
   "source": []
  }
 ],
 "metadata": {
  "kernelspec": {
   "display_name": "Julia 0.6.0",
   "language": "julia",
   "name": "julia-0.6"
  },
  "language_info": {
   "file_extension": ".jl",
   "mimetype": "application/julia",
   "name": "julia",
   "version": "0.6.0"
  }
 },
 "nbformat": 4,
 "nbformat_minor": 2
}
